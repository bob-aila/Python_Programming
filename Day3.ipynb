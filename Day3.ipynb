{
 "cells": [
  {
   "cell_type": "markdown",
   "id": "d5a2b200-4f0b-42fc-8dc2-8f42a0778eec",
   "metadata": {},
   "source": [
    "****\n",
    "\n",
    "# <center> <b> <span style=\"color:orange;\"> Python Proficiency for Scientific Computing and Data Science (PyPro-SCiDaS)  </span> </b></center>\n",
    "\n",
    "### <center> <b> <span style=\"color:green;\">An Initiation to Programming using Python (Init2Py) </span> </b></center>\n",
    "    "
   ]
  },
  {
   "cell_type": "markdown",
   "id": "5a88e7e4-fd21-42a0-a335-1d8d523fa99b",
   "metadata": {},
   "source": [
    "****\n",
    "\n",
    "# <center> <b> <span style=\"color:blue;\">Lecture 3: Strings and File Handling </span> </b></center>\n",
    "\n",
    "\n",
    "****"
   ]
  },
  {
   "cell_type": "markdown",
   "id": "012a4fdb-5ed9-4b2b-adb5-b4d8a3bf98c5",
   "metadata": {},
   "source": [
    "## Strings and files"
   ]
  },
  {
   "cell_type": "code",
   "execution_count": 4,
   "id": "b5a9d7d6-6e5d-45a0-b8a0-b9d15af2c2ff",
   "metadata": {},
   "outputs": [],
   "source": [
    "string_1 = \"Will you be at the meeting tonight\"\n",
    "string_2 = '\"Yes\", he replies.'"
   ]
  },
  {
   "cell_type": "code",
   "execution_count": 5,
   "id": "07909c91-db3c-4f40-959a-5abaa627b09b",
   "metadata": {},
   "outputs": [
    {
     "name": "stdout",
     "output_type": "stream",
     "text": [
      "Will you be at the meeting tonight\n"
     ]
    }
   ],
   "source": [
    "print(string_1)"
   ]
  },
  {
   "cell_type": "code",
   "execution_count": 6,
   "id": "be14aae6-3d59-4a6b-b68b-8b22491fb029",
   "metadata": {},
   "outputs": [
    {
     "name": "stdout",
     "output_type": "stream",
     "text": [
      "\"Yes\", he replies.\n"
     ]
    }
   ],
   "source": [
    "print(string_2)"
   ]
  },
  {
   "cell_type": "markdown",
   "id": "4b15bd35-ac75-4a93-813c-790d0cce6299",
   "metadata": {},
   "source": [
    "## Indexing"
   ]
  },
  {
   "cell_type": "code",
   "execution_count": 8,
   "id": "56276c1a-504d-40ac-9d72-bf547eec346b",
   "metadata": {},
   "outputs": [
    {
     "data": {
      "text/plain": [
       "'W'"
      ]
     },
     "execution_count": 8,
     "metadata": {},
     "output_type": "execute_result"
    }
   ],
   "source": [
    "string_1[0]"
   ]
  },
  {
   "cell_type": "code",
   "execution_count": 13,
   "id": "a60939d8-48f2-4b05-b730-b115456e505d",
   "metadata": {},
   "outputs": [
    {
     "name": "stdout",
     "output_type": "stream",
     "text": [
      "Will you be at the meeting tonight\n",
      "the second character in my string is : i\n",
      "the last character in my string is : t\n"
     ]
    }
   ],
   "source": [
    "print(string_1)\n",
    "print(\"the second character in my string is :\", string_1[1])\n",
    "print(\"the last character in my string is :\", string_1[-1])"
   ]
  },
  {
   "cell_type": "markdown",
   "id": "3fe5682e-20c3-4a8e-a5f6-da9be42cc774",
   "metadata": {},
   "source": [
    "## Slicing\n",
    "\n",
    "```python\n",
    " The syntax is string[start:stop:step]\n",
    "```"
   ]
  },
  {
   "cell_type": "code",
   "execution_count": 16,
   "id": "7869aee3-62f9-49aa-95a9-d4d8f0ef0cbd",
   "metadata": {},
   "outputs": [
    {
     "name": "stdout",
     "output_type": "stream",
     "text": [
      "Will you be at the meeting tonight\n"
     ]
    },
    {
     "data": {
      "text/plain": [
       "'l o'"
      ]
     },
     "execution_count": 16,
     "metadata": {},
     "output_type": "execute_result"
    }
   ],
   "source": [
    "print(string_1)\n",
    "string_1[2:8:2]"
   ]
  },
  {
   "cell_type": "code",
   "execution_count": 17,
   "id": "a2162fae-7118-4a2f-8f7b-a0e482815db0",
   "metadata": {},
   "outputs": [
    {
     "data": {
      "text/plain": [
       "'Will you'"
      ]
     },
     "execution_count": 17,
     "metadata": {},
     "output_type": "execute_result"
    }
   ],
   "source": [
    "string_1[:8]"
   ]
  },
  {
   "cell_type": "code",
   "execution_count": 18,
   "id": "9f16da62-c56b-4f42-90b6-ffd6da68be0d",
   "metadata": {},
   "outputs": [
    {
     "data": {
      "text/plain": [
       "'Wl o ea h etn oih'"
      ]
     },
     "execution_count": 18,
     "metadata": {},
     "output_type": "execute_result"
    }
   ],
   "source": [
    "string_1[::2]"
   ]
  },
  {
   "cell_type": "code",
   "execution_count": 19,
   "id": "2c56e04a-d572-4ee6-af2b-2724ef4d8115",
   "metadata": {},
   "outputs": [
    {
     "data": {
      "text/plain": [
       "34"
      ]
     },
     "execution_count": 19,
     "metadata": {},
     "output_type": "execute_result"
    }
   ],
   "source": [
    "len(string_1)"
   ]
  },
  {
   "cell_type": "markdown",
   "id": "829528c9-eb3f-4ed5-bd9a-2681db6dcffc",
   "metadata": {},
   "source": [
    "## Concatenation"
   ]
  },
  {
   "cell_type": "code",
   "execution_count": 25,
   "id": "d21be373-7514-4258-8a16-f23357dda5f4",
   "metadata": {},
   "outputs": [
    {
     "name": "stdout",
     "output_type": "stream",
     "text": [
      "Hello, World\n",
      "WorldHello, \n",
      "WorldWorld\n"
     ]
    }
   ],
   "source": [
    "my_var1 =\"Hello, \"\n",
    "my_var2 =\"World\"\n",
    "concaten = my_var1 + my_var2\n",
    "print(concaten)\n",
    "print(my_var2 + my_var1)\n",
    "print(2*my_var2)"
   ]
  },
  {
   "cell_type": "markdown",
   "id": "955b65bb-d574-49f9-8b39-779d55a22d85",
   "metadata": {},
   "source": [
    "## Methods on `float` type varriables"
   ]
  },
  {
   "cell_type": "code",
   "execution_count": 28,
   "id": "f1384d0b-feed-4e0d-9862-3403da93167b",
   "metadata": {},
   "outputs": [],
   "source": [
    "my_float = 345.67"
   ]
  },
  {
   "cell_type": "code",
   "execution_count": 38,
   "id": "5ef64cf9-9632-44e2-b72b-9dc122ed9907",
   "metadata": {},
   "outputs": [
    {
     "name": "stdout",
     "output_type": "stream",
     "text": [
      "False\n"
     ]
    }
   ],
   "source": [
    "print(my_float.is_integer())"
   ]
  },
  {
   "cell_type": "code",
   "execution_count": 49,
   "id": "a7946216-aed7-48cb-8e1a-a8edb0b522d5",
   "metadata": {},
   "outputs": [],
   "source": [
    "my_str = \"hello-there-what-are-you-doing\""
   ]
  },
  {
   "cell_type": "code",
   "execution_count": 51,
   "id": "97be51ad-d989-4395-be54-39f23e282f08",
   "metadata": {},
   "outputs": [
    {
     "data": {
      "text/plain": [
       "['hello', 'there', 'what', 'are', 'you', 'doing']"
      ]
     },
     "execution_count": 51,
     "metadata": {},
     "output_type": "execute_result"
    }
   ],
   "source": [
    "my_str.split(\"-\")#split with delimiter"
   ]
  },
  {
   "cell_type": "code",
   "execution_count": 60,
   "id": "e6c4659a-a9b8-4ab3-b2cf-da852af53548",
   "metadata": {},
   "outputs": [
    {
     "data": {
      "text/plain": [
       "('hello-there', '-what-', 'are-you-doing')"
      ]
     },
     "execution_count": 60,
     "metadata": {},
     "output_type": "execute_result"
    }
   ],
   "source": [
    "my_str.partition('-what-')# splits string into a tuple of 3, with the separating string as the middle item in the tuple"
   ]
  },
  {
   "cell_type": "code",
   "execution_count": 66,
   "id": "df192c06-c275-47c4-93f0-4f508066d1ba",
   "metadata": {},
   "outputs": [
    {
     "data": {
      "text/plain": [
       "'hello-there'"
      ]
     },
     "execution_count": 66,
     "metadata": {},
     "output_type": "execute_result"
    }
   ],
   "source": [
    "my_str.partition('-what-')[0]"
   ]
  },
  {
   "cell_type": "code",
   "execution_count": 68,
   "id": "559905c6-83e2-4d86-bbc3-e71426038b2c",
   "metadata": {},
   "outputs": [
    {
     "data": {
      "text/plain": [
       "'hello there ,What are you doing'"
      ]
     },
     "execution_count": 68,
     "metadata": {},
     "output_type": "execute_result"
    }
   ],
   "source": [
    "my_str.replace(\"-\",\" \",-1).replace(\"what\",\",What\",-1)"
   ]
  },
  {
   "cell_type": "code",
   "execution_count": 74,
   "id": "5118976d-1e07-49b1-8ea7-fad38e293da9",
   "metadata": {},
   "outputs": [
    {
     "name": "stdout",
     "output_type": "stream",
     "text": [
      "zsh:1: command not found: dir\n"
     ]
    }
   ],
   "source": [
    "!dir /python_course/ls"
   ]
  },
  {
   "cell_type": "code",
   "execution_count": 2,
   "id": "cb565d54-592b-4d43-8f1c-3f4592ad3843",
   "metadata": {},
   "outputs": [
    {
     "name": "stdout",
     "output_type": "stream",
     "text": [
      "Day3.ipynb\n",
      "Emily.png\n",
      "PyPro-SCiDaS-day_00_introduction_to_jupyter_notebooks.ipynb\n",
      "PyPro-SCiDaS-day_01a_introduction_to_python.ipynb\n",
      "PyPro-SCiDaS-day_01b_variables-and-assignment.ipynb\n",
      "bob.philip-day-02-report.ipynb\n",
      "command_mode.png\n",
      "duck.jpg\n",
      "edit_mode.png\n",
      "guinea.jpg\n",
      "menubar_toolbar.png\n",
      "textfile.txt\n",
      "turkey.jpg\n"
     ]
    }
   ],
   "source": [
    "!ls"
   ]
  },
  {
   "cell_type": "code",
   "execution_count": 4,
   "id": "1dacea70-4f7a-4703-8567-566d7e6ddd7f",
   "metadata": {},
   "outputs": [
    {
     "data": {
      "text/plain": [
       "['fghij\\n', 'aims class\\n', 'Rwannda 2025\\n', 'this is really cool']"
      ]
     },
     "execution_count": 4,
     "metadata": {},
     "output_type": "execute_result"
    }
   ],
   "source": [
    "f = open('textfile.txt','r')\n",
    "f.readlines()"
   ]
  },
  {
   "cell_type": "code",
   "execution_count": 5,
   "id": "e92c513b-7e74-4735-ac3f-40a0a70d9779",
   "metadata": {},
   "outputs": [],
   "source": [
    "f.close()"
   ]
  },
  {
   "cell_type": "code",
   "execution_count": 12,
   "id": "b5595f8a-798f-426e-884e-ee598df702ae",
   "metadata": {},
   "outputs": [
    {
     "name": "stdout",
     "output_type": "stream",
     "text": [
      "fghij\n",
      "aims class\n",
      "Rwannda 2025\n",
      "this is really cool\n"
     ]
    }
   ],
   "source": [
    "with open('textfile.txt','r') as file:\n",
    "    for line in file:\n",
    "        print(line.strip())"
   ]
  },
  {
   "cell_type": "code",
   "execution_count": 15,
   "id": "a70cb8aa-cdb5-4033-9e66-9f3f89eb5cd9",
   "metadata": {},
   "outputs": [],
   "source": [
    "# oppening to write items in a file\n",
    "f = open('textfile.txt','a') # 'w' replaces everything with new data, a appends new lines\n",
    "f.write(\"\\nThis is a new second line we are adding\\n\")\n",
    "f.close()"
   ]
  },
  {
   "cell_type": "code",
   "execution_count": 49,
   "id": "b83feb21-1e22-44aa-b08f-9bfa40648548",
   "metadata": {},
   "outputs": [
    {
     "name": "stdout",
     "output_type": "stream",
     "text": [
      "fghij\n",
      "aims class\n",
      "Rwannda 2025\n",
      "this is really cool\n",
      "This is a new line we are adding\n",
      "This is a new second line we are adding\n"
     ]
    }
   ],
   "source": [
    "with open('textfile.txt','r') as file:\n",
    "    for line in file:\n",
    "        print(line.strip())\n",
    "        "
   ]
  },
  {
   "cell_type": "code",
   "execution_count": 58,
   "id": "fcfd088e-db92-4c32-983c-aaadb178d24c",
   "metadata": {},
   "outputs": [
    {
     "name": "stdout",
     "output_type": "stream",
     "text": [
      "['fghij\\n']\n"
     ]
    }
   ],
   "source": [
    "f = open(\"textfile.txt\", \"r\")# Read based on specific number of bits\n",
    "print(f.readlines(5)) "
   ]
  },
  {
   "cell_type": "code",
   "execution_count": 59,
   "id": "bcbf61b9-b7df-43aa-8a02-b612caadef06",
   "metadata": {},
   "outputs": [
    {
     "name": "stdout",
     "output_type": "stream",
     "text": [
      "Filename is : textfile.txt\n",
      "Mode the file name is in is : r\n",
      "Is the file Closed? : False\n",
      "Is Closed now? : True\n"
     ]
    }
   ],
   "source": [
    "print(\"Filename is :\", f.name)\n",
    "print(\"Mode the file name is in is :\", f.mode)\n",
    "print(\"Is the file Closed? :\", f.closed)\n",
    "\n",
    "f.close()\n",
    "print(\"Is Closed now? :\", f.closed)"
   ]
  },
  {
   "cell_type": "code",
   "execution_count": null,
   "id": "ebb4129b-c28e-4069-80aa-8c1834e5f4c6",
   "metadata": {},
   "outputs": [],
   "source": []
  }
 ],
 "metadata": {
  "kernelspec": {
   "display_name": "Python 3 (ipykernel)",
   "language": "python",
   "name": "python3"
  },
  "language_info": {
   "codemirror_mode": {
    "name": "ipython",
    "version": 3
   },
   "file_extension": ".py",
   "mimetype": "text/x-python",
   "name": "python",
   "nbconvert_exporter": "python",
   "pygments_lexer": "ipython3",
   "version": "3.11.13"
  }
 },
 "nbformat": 4,
 "nbformat_minor": 5
}
