{
 "cells": [
  {
   "cell_type": "markdown",
   "id": "96326ffd-fef2-4e61-a6b1-c52d8fc1553f",
   "metadata": {},
   "source": [
    "## Flow Control"
   ]
  },
  {
   "cell_type": "code",
   "execution_count": 1,
   "id": "32d246ce-e937-4889-a342-b454b6ba77de",
   "metadata": {},
   "outputs": [
    {
     "name": "stdout",
     "output_type": "stream",
     "text": [
      "27\n"
     ]
    }
   ],
   "source": [
    "a =27\n",
    "print(a)"
   ]
  },
  {
   "cell_type": "code",
   "execution_count": null,
   "id": "4d4c79a1-fb65-46c1-bcad-620c7bcc78ac",
   "metadata": {},
   "outputs": [],
   "source": [
    "```python\n",
    "if (Condition=True):\n",
    "    print(\"Something\")\n",
    "          \n",
    "else:\n",
    "    print(\"Not met\")\n",
    "\n",
    "```"
   ]
  },
  {
   "cell_type": "code",
   "execution_count": null,
   "id": "18b0afb8-f325-4d35-b024-391c9d0cf75e",
   "metadata": {},
   "outputs": [],
   "source": [
    "if (a >29):\n",
    "    print(\"Something\")\n",
    "          \n",
    "else:\n",
    "    print(\"Not met\")"
   ]
  },
  {
   "cell_type": "markdown",
   "id": "ed0f0402-8477-48d9-9e00-bff747e86720",
   "metadata": {},
   "source": [
    "## Nested Iff"
   ]
  },
  {
   "cell_type": "code",
   "execution_count": 2,
   "id": "55d03986-ccd3-467b-951e-526b9e4f8759",
   "metadata": {},
   "outputs": [
    {
     "name": "stdout",
     "output_type": "stream",
     "text": [
      "a is grater than b\n",
      "The diff is less..\n"
     ]
    }
   ],
   "source": [
    "a = 15\n",
    "b = 10\n",
    "if a > b:\n",
    "    print(\"a is grater than b\")\n",
    "    if (a-b >5):\n",
    "        print(\"The diff is..\")\n",
    "    else:\n",
    "        print(\"The diff is less..\")\n",
    "else:\n",
    "    print(\"b is greater than a\")"
   ]
  },
  {
   "cell_type": "code",
   "execution_count": 33,
   "id": "e7099480-9418-4a64-b6e2-8e5b5eb6ea53",
   "metadata": {},
   "outputs": [
    {
     "name": "stdout",
     "output_type": "stream",
     "text": [
      "(-1+1.1547005383792515j) (-1-1.1547005383792515j)\n"
     ]
    }
   ],
   "source": [
    "import math\n",
    "import cmath\n",
    "#a = input(\"Enter the value for a\")\n",
    "#b = input(\"Enter the value for b\")\n",
    "#c = input(\"Enter the value for c\")\n",
    "a =3\n",
    "b =6\n",
    "c = 7\n",
    "\n",
    "if (a == 0):\n",
    "    if b == 0:\n",
    "        if c == 0:\n",
    "            print(\"Infinite solutions\")\n",
    "        else:\n",
    "            print(\"No solution\")\n",
    "    else:\n",
    "        x = -c / b\n",
    "        print(\"the root is\" + x)\n",
    "        #return (x,) # Linear equation, one root\n",
    "\n",
    "discriminant = (b**2) - (4 * a * c)\n",
    "\n",
    "if (discriminant >= 0):\n",
    "    # Real roots\n",
    "    x1 = (-b + math.sqrt(discriminant)) / (2 * a)\n",
    "    x2 = (-b - math.sqrt(discriminant)) / (2 * a)\n",
    "    print(\"the root is\", x1 ,\" and \",x2)\n",
    "    #return x1, x2\n",
    "else:\n",
    "    # Complex roots\n",
    "    x1 = (-b + cmath.sqrt(discriminant)) / (2 * a)\n",
    "    x2 = (-b - cmath.sqrt(discriminant)) / (2 * a)\n",
    "    print(x1, x2)"
   ]
  },
  {
   "cell_type": "code",
   "execution_count": 16,
   "id": "459915e5-51dc-4438-a7c5-122af38c8004",
   "metadata": {},
   "outputs": [
    {
     "name": "stdout",
     "output_type": "stream",
     "text": [
      "The value is  1\n",
      "The value is  2\n",
      "The value is  3\n",
      "The value is  4\n",
      "The value is  5\n",
      "The value is  6\n",
      "The value is  7\n",
      "The value is  8\n",
      "The value is  9\n",
      "The value is  10\n"
     ]
    }
   ],
   "source": [
    "i = 1\n",
    "while (i <= 10):\n",
    "    print(\"The value is \",i)\n",
    "    i= i+1"
   ]
  },
  {
   "cell_type": "code",
   "execution_count": 19,
   "id": "ad7ac5c7-67b4-4e91-a9a7-80f8148ce8cc",
   "metadata": {},
   "outputs": [
    {
     "name": "stdout",
     "output_type": "stream",
     "text": [
      "0\n",
      "1\n",
      "2\n",
      "3\n",
      "4\n",
      "5\n",
      "6\n",
      "7\n",
      "8\n",
      "9\n"
     ]
    }
   ],
   "source": [
    "for i in range(10):\n",
    "    print(i)"
   ]
  },
  {
   "cell_type": "code",
   "execution_count": 20,
   "id": "55f73949-cf37-4ed2-ba0f-d71ec1d18f2c",
   "metadata": {},
   "outputs": [
    {
     "name": "stdout",
     "output_type": "stream",
     "text": [
      "Try again\n",
      "Try again\n",
      "Try again\n",
      "5 was found\n",
      "Try again\n",
      "Try again\n",
      "Try again\n"
     ]
    }
   ],
   "source": [
    "list_fr = [4, 5, 7, 9, 2, \"Hello\", 29]\n",
    "for i in list_fr:\n",
    "    if i == 9:\n",
    "        print(\"5 was found\")\n",
    "    else:\n",
    "        print(\"Try again\")"
   ]
  },
  {
   "cell_type": "code",
   "execution_count": 24,
   "id": "5d7c7f84-286d-4cf6-881f-6f4f66c7d4f3",
   "metadata": {},
   "outputs": [
    {
     "name": "stdout",
     "output_type": "stream",
     "text": [
      "The letter H is a consonace\n",
      "The letter e is a vowel\n",
      "The letter l is a consonace\n",
      "The letter l is a consonace\n",
      "The letter o is a vowel\n",
      "This is a space\n",
      "The letter W is a consonace\n",
      "The letter o is a vowel\n",
      "The letter r is a consonace\n",
      "The letter l is a consonace\n",
      "The letter d is a consonace\n",
      "The letter ! is a consonace\n"
     ]
    }
   ],
   "source": [
    "sentence = \"Hello World!\"\n",
    "for letter in sentence:\n",
    "    if letter in \"AEIOUaeiou\":\n",
    "        print(\"The letter\",letter,\"is a vowel\")\n",
    "    elif letter == \" \":\n",
    "        print(\"This is a space\")\n",
    "    else:\n",
    "        print(\"The letter\",letter,\"is a consonace\") sentence."
   ]
  },
  {
   "cell_type": "code",
   "execution_count": null,
   "id": "7bca5344-22d1-48c9-85ae-bf9577e688dc",
   "metadata": {},
   "outputs": [],
   "source": []
  }
 ],
 "metadata": {
  "kernelspec": {
   "display_name": "Python 3 (ipykernel)",
   "language": "python",
   "name": "python3"
  },
  "language_info": {
   "codemirror_mode": {
    "name": "ipython",
    "version": 3
   },
   "file_extension": ".py",
   "mimetype": "text/x-python",
   "name": "python",
   "nbconvert_exporter": "python",
   "pygments_lexer": "ipython3",
   "version": "3.11.13"
  }
 },
 "nbformat": 4,
 "nbformat_minor": 5
}
